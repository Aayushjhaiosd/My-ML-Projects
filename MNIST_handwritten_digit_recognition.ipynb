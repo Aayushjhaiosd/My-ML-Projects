{
  "nbformat": 4,
  "nbformat_minor": 0,
  "metadata": {
    "colab": {
      "name": "MNIST handwritten digit recognition.ipynb",
      "provenance": [],
      "authorship_tag": "ABX9TyOq5xTBpvheHq+m9bCtocjM",
      "include_colab_link": true
    },
    "kernelspec": {
      "name": "python3",
      "display_name": "Python 3"
    },
    "accelerator": "TPU"
  },
  "cells": [
    {
      "cell_type": "markdown",
      "metadata": {
        "id": "view-in-github",
        "colab_type": "text"
      },
      "source": [
        "<a href=\"https://colab.research.google.com/github/ShivamSinghal1/My-ML-Projects/blob/master/MNIST_handwritten_digit_recognition.ipynb\" target=\"_parent\"><img src=\"https://colab.research.google.com/assets/colab-badge.svg\" alt=\"Open In Colab\"/></a>"
      ]
    },
    {
      "cell_type": "code",
      "metadata": {
        "id": "zL_H394Vrspd",
        "colab_type": "code",
        "colab": {}
      },
      "source": [
        "import numpy as np\n",
        "import matplotlib.pyplot as plt\n",
        "\n",
        "import keras\n",
        "from keras import utils\n",
        "from keras.datasets import mnist\n",
        "from keras.models import Sequential, load_model\n",
        "from keras.layers.core import Dense, Dropout, Activation, Flatten \n",
        "from keras.utils import np_utils\n",
        "from keras.layers import Conv2D, MaxPooling2D"
      ],
      "execution_count": 0,
      "outputs": []
    },
    {
      "cell_type": "code",
      "metadata": {
        "id": "4jhSoKi1vLRu",
        "colab_type": "code",
        "colab": {}
      },
      "source": [
        "(X_train, Y_train), (X_test, Y_test) = mnist.load_data()"
      ],
      "execution_count": 0,
      "outputs": []
    },
    {
      "cell_type": "code",
      "metadata": {
        "id": "7I4lqgwRre8Z",
        "colab_type": "code",
        "colab": {}
      },
      "source": [
        ""
      ],
      "execution_count": 0,
      "outputs": []
    },
    {
      "cell_type": "code",
      "metadata": {
        "id": "wRBaxl_1vtvt",
        "colab_type": "code",
        "outputId": "15adc5ca-3369-4523-ed7e-49238283fa40",
        "colab": {
          "base_uri": "https://localhost:8080/",
          "height": 334
        }
      },
      "source": [
        "fig = plt.figure()\n",
        "for i in range(9):\n",
        "  plt.subplot(3,3,i+1)\n",
        "  plt.tight_layout()\n",
        "  plt.imshow(X_train[i], cmap='gray', interpolation='none')\n",
        "  plt.title(\"Digit: {}\".format(y_train[i]))\n",
        "  plt.xticks([])\n",
        "  plt.yticks([])"
      ],
      "execution_count": 70,
      "outputs": [
        {
          "output_type": "error",
          "ename": "NameError",
          "evalue": "ignored",
          "traceback": [
            "\u001b[0;31m---------------------------------------------------------------------------\u001b[0m",
            "\u001b[0;31mNameError\u001b[0m                                 Traceback (most recent call last)",
            "\u001b[0;32m<ipython-input-70-34d747b4ed02>\u001b[0m in \u001b[0;36m<module>\u001b[0;34m()\u001b[0m\n\u001b[1;32m      4\u001b[0m   \u001b[0mplt\u001b[0m\u001b[0;34m.\u001b[0m\u001b[0mtight_layout\u001b[0m\u001b[0;34m(\u001b[0m\u001b[0;34m)\u001b[0m\u001b[0;34m\u001b[0m\u001b[0;34m\u001b[0m\u001b[0m\n\u001b[1;32m      5\u001b[0m   \u001b[0mplt\u001b[0m\u001b[0;34m.\u001b[0m\u001b[0mimshow\u001b[0m\u001b[0;34m(\u001b[0m\u001b[0mX_train\u001b[0m\u001b[0;34m[\u001b[0m\u001b[0mi\u001b[0m\u001b[0;34m]\u001b[0m\u001b[0;34m,\u001b[0m \u001b[0mcmap\u001b[0m\u001b[0;34m=\u001b[0m\u001b[0;34m'gray'\u001b[0m\u001b[0;34m,\u001b[0m \u001b[0minterpolation\u001b[0m\u001b[0;34m=\u001b[0m\u001b[0;34m'none'\u001b[0m\u001b[0;34m)\u001b[0m\u001b[0;34m\u001b[0m\u001b[0;34m\u001b[0m\u001b[0m\n\u001b[0;32m----> 6\u001b[0;31m   \u001b[0mplt\u001b[0m\u001b[0;34m.\u001b[0m\u001b[0mtitle\u001b[0m\u001b[0;34m(\u001b[0m\u001b[0;34m\"Digit: {}\"\u001b[0m\u001b[0;34m.\u001b[0m\u001b[0mformat\u001b[0m\u001b[0;34m(\u001b[0m\u001b[0my_train\u001b[0m\u001b[0;34m[\u001b[0m\u001b[0mi\u001b[0m\u001b[0;34m]\u001b[0m\u001b[0;34m)\u001b[0m\u001b[0;34m)\u001b[0m\u001b[0;34m\u001b[0m\u001b[0;34m\u001b[0m\u001b[0m\n\u001b[0m\u001b[1;32m      7\u001b[0m   \u001b[0mplt\u001b[0m\u001b[0;34m.\u001b[0m\u001b[0mxticks\u001b[0m\u001b[0;34m(\u001b[0m\u001b[0;34m[\u001b[0m\u001b[0;34m]\u001b[0m\u001b[0;34m)\u001b[0m\u001b[0;34m\u001b[0m\u001b[0;34m\u001b[0m\u001b[0m\n\u001b[1;32m      8\u001b[0m   \u001b[0mplt\u001b[0m\u001b[0;34m.\u001b[0m\u001b[0myticks\u001b[0m\u001b[0;34m(\u001b[0m\u001b[0;34m[\u001b[0m\u001b[0;34m]\u001b[0m\u001b[0;34m)\u001b[0m\u001b[0;34m\u001b[0m\u001b[0;34m\u001b[0m\u001b[0m\n",
            "\u001b[0;31mNameError\u001b[0m: name 'y_train' is not defined"
          ]
        },
        {
          "output_type": "display_data",
          "data": {
            "image/png": "[encoded data removed]",
            "text/plain": [
              "<Figure size 432x288 with 1 Axes>"
            ]
          },
          "metadata": {
            "tags": []
          }
        }
      ]
    },
    {
      "cell_type": "code",
      "metadata": {
        "id": "v2u8l5X3v4c9",
        "colab_type": "code",
        "colab": {}
      },
      "source": [
        ""
      ],
      "execution_count": 0,
      "outputs": []
    },
    {
      "cell_type": "code",
      "metadata": {
        "id": "u3RVCbwCwGSE",
        "colab_type": "code",
        "outputId": "c68d5a6f-78ff-44ce-b81f-eab966fd47db",
        "colab": {
          "base_uri": "https://localhost:8080/",
          "height": 119
        }
      },
      "source": [
        "print(\"X_train shape\", X_train.shape)\n",
        "print(\"y_train shape\", Y_train.shape)\n",
        "print(\"X_test shape\", X_test.shape)\n",
        "print(\"y_test shape\", Y_test.shape)\n",
        "\n",
        "# building the input vector from the 28x28 pixels\n",
        "X_train = X_train.reshape(60000, 784)\n",
        "X_test = X_test.reshape(10000, 784)\n",
        "X_train = X_train.astype('float32')\n",
        "X_test = X_test.astype('float32')\n",
        "\n",
        "# normalizing the data to help with the training\n",
        "X_train /= 255\n",
        "X_test /= 255\n",
        "\n",
        "# print the final input shape ready for training\n",
        "print(\"Train matrix shape\", X_train.shape)\n",
        "print(\"Test matrix shape\", X_test.shape)"
      ],
      "execution_count": 71,
      "outputs": [
        {
          "output_type": "stream",
          "text": [
            "X_train shape (60000, 28, 28)\n",
            "y_train shape (60000,)\n",
            "X_test shape (10000, 28, 28)\n",
            "y_test shape (10000,)\n",
            "Train matrix shape (60000, 784)\n",
            "Test matrix shape (10000, 784)\n"
          ],
          "name": "stdout"
        }
      ]
    },
    {
      "cell_type": "code",
      "metadata": {
        "id": "Xz8yVwQYwVZI",
        "colab_type": "code",
        "outputId": "aadb3e10-c241-404d-b32f-48b9a4204f7e",
        "colab": {
          "base_uri": "https://localhost:8080/",
          "height": 34
        }
      },
      "source": [
        "print(np.unique(Y_train, return_counts=True))"
      ],
      "execution_count": 72,
      "outputs": [
        {
          "output_type": "stream",
          "text": [
            "(array([0, 1, 2, 3, 4, 5, 6, 7, 8, 9], dtype=uint8), array([5923, 6742, 5958, 6131, 5842, 5421, 5918, 6265, 5851, 5949]))\n"
          ],
          "name": "stdout"
        }
      ]
    },
    {
      "cell_type": "code",
      "metadata": {
        "id": "-eRVqSnywZLA",
        "colab_type": "code",
        "outputId": "89c63400-413e-4b2d-c7dc-0073d1286c47",
        "colab": {
          "base_uri": "https://localhost:8080/",
          "height": 51
        }
      },
      "source": [
        "n_classes = 10\n",
        "print(\"Shape before one-hot encoding: \", Y_train.shape)\n",
        "Y_train = np_utils.to_categorical(Y_train, n_classes)\n",
        "Y_test = np_utils.to_categorical(Y_test, n_classes)\n",
        "print(\"Shape after one-hot encoding: \", Y_train.shape)"
      ],
      "execution_count": 73,
      "outputs": [
        {
          "output_type": "stream",
          "text": [
            "Shape before one-hot encoding:  (60000,)\n",
            "Shape after one-hot encoding:  (60000, 10)\n"
          ],
          "name": "stdout"
        }
      ]
    },
    {
      "cell_type": "code",
      "metadata": {
        "id": "vDorszmlwhgz",
        "colab_type": "code",
        "colab": {
          "base_uri": "https://localhost:8080/",
          "height": 323
        },
        "outputId": "a12d2c9b-bf6d-4b66-f973-4bd0a13ced19"
      },
      "source": [
        "model = Sequential()\n",
        "model.add(Dense(80, input_shape=(784,)))\n",
        "model.add(Activation('relu'))                            \n",
        "model.add(Dropout(0.2))\n",
        "\n",
        "model.add(Dense(10))\n",
        "model.add(Activation('softmax'))\n",
        "model.summary()"
      ],
      "execution_count": 90,
      "outputs": [
        {
          "output_type": "stream",
          "text": [
            "Model: \"sequential_18\"\n",
            "_________________________________________________________________\n",
            "Layer (type)                 Output Shape              Param #   \n",
            "=================================================================\n",
            "dense_40 (Dense)             (None, 80)                62800     \n",
            "_________________________________________________________________\n",
            "activation_24 (Activation)   (None, 80)                0         \n",
            "_________________________________________________________________\n",
            "dropout_22 (Dropout)         (None, 80)                0         \n",
            "_________________________________________________________________\n",
            "dense_41 (Dense)             (None, 10)                810       \n",
            "_________________________________________________________________\n",
            "activation_25 (Activation)   (None, 10)                0         \n",
            "=================================================================\n",
            "Total params: 63,610\n",
            "Trainable params: 63,610\n",
            "Non-trainable params: 0\n",
            "_________________________________________________________________\n"
          ],
          "name": "stdout"
        }
      ]
    },
    {
      "cell_type": "code",
      "metadata": {
        "id": "PxOnP1JUw4fp",
        "colab_type": "code",
        "colab": {}
      },
      "source": [
        "model.compile(loss='categorical_crossentropy', metrics=['accuracy'], optimizer='adam')"
      ],
      "execution_count": 0,
      "outputs": []
    },
    {
      "cell_type": "code",
      "metadata": {
        "id": "58AnpnTqxEX_",
        "colab_type": "code",
        "outputId": "17ed015a-a43d-4ef5-d7cd-2741a70c013d",
        "colab": {
          "base_uri": "https://localhost:8080/",
          "height": 714
        }
      },
      "source": [
        "history = model.fit(X_train, Y_train,\n",
        "          batch_size=128, epochs=20, shuffle = True,\n",
        "          validation_split = 0.2)"
      ],
      "execution_count": 92,
      "outputs": [
        {
          "output_type": "stream",
          "text": [
            "Train on 48000 samples, validate on 12000 samples\n",
            "Epoch 1/20\n",
            "48000/48000 [==============================] - 2s 49us/step - loss: 0.5143 - acc: 0.8548 - val_loss: 0.2414 - val_acc: 0.9330\n",
            "Epoch 2/20\n",
            "48000/48000 [==============================] - 2s 34us/step - loss: 0.2593 - acc: 0.9258 - val_loss: 0.1820 - val_acc: 0.9490\n",
            "Epoch 3/20\n",
            "48000/48000 [==============================] - 2s 36us/step - loss: 0.2053 - acc: 0.9399 - val_loss: 0.1566 - val_acc: 0.9548\n",
            "Epoch 4/20\n",
            "48000/48000 [==============================] - 2s 37us/step - loss: 0.1746 - acc: 0.9490 - val_loss: 0.1339 - val_acc: 0.9605\n",
            "Epoch 5/20\n",
            "48000/48000 [==============================] - 2s 36us/step - loss: 0.1521 - acc: 0.9558 - val_loss: 0.1231 - val_acc: 0.9639\n",
            "Epoch 6/20\n",
            "48000/48000 [==============================] - 2s 35us/step - loss: 0.1351 - acc: 0.9600 - val_loss: 0.1131 - val_acc: 0.9657\n",
            "Epoch 7/20\n",
            "48000/48000 [==============================] - 2s 35us/step - loss: 0.1201 - acc: 0.9642 - val_loss: 0.1068 - val_acc: 0.9687\n",
            "Epoch 8/20\n",
            "48000/48000 [==============================] - 2s 35us/step - loss: 0.1103 - acc: 0.9671 - val_loss: 0.1003 - val_acc: 0.9702\n",
            "Epoch 9/20\n",
            "48000/48000 [==============================] - 2s 36us/step - loss: 0.1021 - acc: 0.9694 - val_loss: 0.0977 - val_acc: 0.9698\n",
            "Epoch 10/20\n",
            "48000/48000 [==============================] - 2s 36us/step - loss: 0.0942 - acc: 0.9722 - val_loss: 0.0940 - val_acc: 0.9720\n",
            "Epoch 11/20\n",
            "48000/48000 [==============================] - 2s 35us/step - loss: 0.0867 - acc: 0.9735 - val_loss: 0.0935 - val_acc: 0.9717\n",
            "Epoch 12/20\n",
            "48000/48000 [==============================] - 2s 34us/step - loss: 0.0814 - acc: 0.9746 - val_loss: 0.0901 - val_acc: 0.9730\n",
            "Epoch 13/20\n",
            "48000/48000 [==============================] - 2s 35us/step - loss: 0.0761 - acc: 0.9761 - val_loss: 0.0867 - val_acc: 0.9748\n",
            "Epoch 14/20\n",
            "48000/48000 [==============================] - 2s 34us/step - loss: 0.0713 - acc: 0.9774 - val_loss: 0.0895 - val_acc: 0.9739\n",
            "Epoch 15/20\n",
            "48000/48000 [==============================] - 2s 34us/step - loss: 0.0679 - acc: 0.9788 - val_loss: 0.0879 - val_acc: 0.9743\n",
            "Epoch 16/20\n",
            "48000/48000 [==============================] - 2s 35us/step - loss: 0.0642 - acc: 0.9799 - val_loss: 0.0901 - val_acc: 0.9745\n",
            "Epoch 17/20\n",
            "48000/48000 [==============================] - 2s 34us/step - loss: 0.0617 - acc: 0.9805 - val_loss: 0.0845 - val_acc: 0.9742\n",
            "Epoch 18/20\n",
            "48000/48000 [==============================] - 2s 34us/step - loss: 0.0596 - acc: 0.9804 - val_loss: 0.0846 - val_acc: 0.9765\n",
            "Epoch 19/20\n",
            "48000/48000 [==============================] - 2s 34us/step - loss: 0.0545 - acc: 0.9823 - val_loss: 0.0858 - val_acc: 0.9766\n",
            "Epoch 20/20\n",
            "48000/48000 [==============================] - 2s 34us/step - loss: 0.0525 - acc: 0.9831 - val_loss: 0.0869 - val_acc: 0.9761\n"
          ],
          "name": "stdout"
        }
      ]
    },
    {
      "cell_type": "code",
      "metadata": {
        "id": "wAjYNJGMxitf",
        "colab_type": "code",
        "outputId": "bd334efc-7c15-490c-da58-4d353d1cff23",
        "colab": {
          "base_uri": "https://localhost:8080/",
          "height": 297
        }
      },
      "source": [
        "fig = plt.figure()\n",
        "plt.subplot(2,1,1)\n",
        "plt.plot(history.history['acc'])\n",
        "plt.plot(history.history['val_acc'])\n",
        "plt.title('model accuracy')\n",
        "plt.ylabel('accuracy')\n",
        "plt.xlabel('epoch')\n",
        "plt.legend(['train', 'test'], loc='lower right')\n",
        "\n",
        "plt.subplot(2,1,2)\n",
        "plt.plot(history.history['loss'])\n",
        "plt.plot(history.history['val_loss'])\n",
        "plt.title('model loss')\n",
        "plt.ylabel('loss')\n",
        "plt.xlabel('epoch')\n",
        "plt.legend(['train', 'test'], loc='upper right')\n",
        "\n",
        "plt.tight_layout()\n"
      ],
      "execution_count": 93,
      "outputs": [
        {
          "output_type": "display_data",
          "data": {
            "image/png": "[encoded data removed]",
            "text/plain": [
              "<Figure size 432x288 with 2 Axes>"
            ]
          },
          "metadata": {
            "tags": []
          }
        }
      ]
    },
    {
      "cell_type": "code",
      "metadata": {
        "id": "02S97OBcyxoT",
        "colab_type": "code",
        "outputId": "e6f8cfe9-51f4-476b-cbef-030454c97983",
        "colab": {
          "base_uri": "https://localhost:8080/",
          "height": 34
        }
      },
      "source": [
        "print(history.params)"
      ],
      "execution_count": 94,
      "outputs": [
        {
          "output_type": "stream",
          "text": [
            "{'batch_size': 128, 'epochs': 20, 'steps': None, 'samples': 48000, 'verbose': 1, 'do_validation': True, 'metrics': ['loss', 'acc', 'val_loss', 'val_acc']}\n"
          ],
          "name": "stdout"
        }
      ]
    },
    {
      "cell_type": "code",
      "metadata": {
        "id": "86ijlzIMy0i5",
        "colab_type": "code",
        "outputId": "742edeb0-743a-441b-aef5-528d506971ed",
        "colab": {
          "base_uri": "https://localhost:8080/",
          "height": 68
        }
      },
      "source": [
        "loss_and_metrics = model.evaluate(X_test, Y_test)\n",
        "\n",
        "print(\"Test Loss\", loss_and_metrics[0])\n",
        "print(\"Test Accuracy\", loss_and_metrics[1])"
      ],
      "execution_count": 95,
      "outputs": [
        {
          "output_type": "stream",
          "text": [
            "10000/10000 [==============================] - 0s 24us/step\n",
            "Test Loss 0.08155111578051001\n",
            "Test Accuracy 0.9774\n"
          ],
          "name": "stdout"
        }
      ]
    },
    {
      "cell_type": "code",
      "metadata": {
        "id": "6Q14OpuhzEmD",
        "colab_type": "code",
        "colab": {}
      },
      "source": [
        ""
      ],
      "execution_count": 0,
      "outputs": []
    },
    {
      "cell_type": "markdown",
      "metadata": {
        "id": "nSpSsV9Zr4Nd",
        "colab_type": "text"
      },
      "source": [
        "CNN Model"
      ]
    },
    {
      "cell_type": "code",
      "metadata": {
        "id": "CrM01aOhr1Ng",
        "colab_type": "code",
        "outputId": "2b678f00-5725-42c5-a3ff-65db57cd05a0",
        "colab": {
          "base_uri": "https://localhost:8080/",
          "height": 85
        }
      },
      "source": [
        "(X_train, Y_train), (X_test, Y_test) = mnist.load_data()\n",
        "X_train = X_train.reshape(60000,28,28,1)\n",
        "X_test = X_test.reshape(10000,28,28,1)\n",
        "\n",
        "Y_train = utils.to_categorical(Y_train, 10)\n",
        "Y_test = utils.to_categorical(Y_test, 10)\n",
        "\n",
        "print(X_train.shape)\n",
        "print(X_test.shape)\n",
        "print(Y_train.shape)\n",
        "print(Y_test.shape)"
      ],
      "execution_count": 50,
      "outputs": [
        {
          "output_type": "stream",
          "text": [
            "(60000, 28, 28, 1)\n",
            "(10000, 28, 28, 1)\n",
            "(60000, 10)\n",
            "(10000, 10)\n"
          ],
          "name": "stdout"
        }
      ]
    },
    {
      "cell_type": "code",
      "metadata": {
        "id": "lcPZtIYfsKkt",
        "colab_type": "code",
        "colab": {
          "base_uri": "https://localhost:8080/",
          "height": 425
        },
        "outputId": "a1019ea3-93fa-423c-f6bd-22bad7730451"
      },
      "source": [
        "model = Sequential()\n",
        "model.add(Conv2D(32, kernel_size=(3, 3), activation='relu', input_shape=(28,28,1)))\n",
        "model.add(MaxPooling2D(pool_size=(2, 2)))\n",
        "model.add(Conv2D(64, (3, 3), activation='relu'))\n",
        "model.add(MaxPooling2D(pool_size=(2, 2)))\n",
        "model.add(Flatten())\n",
        "model.add(Dense(128, activation='relu'))\n",
        "model.add(Dropout(0.5))\n",
        "model.add(Dense(10, activation='softmax'))\n",
        "model.summary()"
      ],
      "execution_count": 51,
      "outputs": [
        {
          "output_type": "stream",
          "text": [
            "Model: \"sequential_9\"\n",
            "_________________________________________________________________\n",
            "Layer (type)                 Output Shape              Param #   \n",
            "=================================================================\n",
            "conv2d_15 (Conv2D)           (None, 26, 26, 32)        320       \n",
            "_________________________________________________________________\n",
            "max_pooling2d_15 (MaxPooling (None, 13, 13, 32)        0         \n",
            "_________________________________________________________________\n",
            "conv2d_16 (Conv2D)           (None, 11, 11, 64)        18496     \n",
            "_________________________________________________________________\n",
            "max_pooling2d_16 (MaxPooling (None, 5, 5, 64)          0         \n",
            "_________________________________________________________________\n",
            "flatten_8 (Flatten)          (None, 1600)              0         \n",
            "_________________________________________________________________\n",
            "dense_18 (Dense)             (None, 128)               204928    \n",
            "_________________________________________________________________\n",
            "dropout_9 (Dropout)          (None, 128)               0         \n",
            "_________________________________________________________________\n",
            "dense_19 (Dense)             (None, 10)                1290      \n",
            "=================================================================\n",
            "Total params: 225,034\n",
            "Trainable params: 225,034\n",
            "Non-trainable params: 0\n",
            "_________________________________________________________________\n"
          ],
          "name": "stdout"
        }
      ]
    },
    {
      "cell_type": "code",
      "metadata": {
        "id": "Xi-4SPX0VmMh",
        "colab_type": "code",
        "colab": {
          "base_uri": "https://localhost:8080/",
          "height": 714
        },
        "outputId": "53066420-d134-4d0c-c771-3d16454e7253"
      },
      "source": [
        "model.compile(loss='categorical_crossentropy',\n",
        "              optimizer= \"adam\",\n",
        "              metrics=['accuracy'])\n",
        "\n",
        "history = model.fit(X_train, Y_train,\n",
        "                    batch_size= 128,\n",
        "                    epochs= 20,\n",
        "                    validation_split = 0.2)\n"
      ],
      "execution_count": 52,
      "outputs": [
        {
          "output_type": "stream",
          "text": [
            "Train on 48000 samples, validate on 12000 samples\n",
            "Epoch 1/20\n",
            "48000/48000 [==============================] - 36s 753us/step - loss: 1.3475 - acc: 0.8419 - val_loss: 0.0817 - val_acc: 0.9756\n",
            "Epoch 2/20\n",
            "48000/48000 [==============================] - 35s 739us/step - loss: 0.1326 - acc: 0.9625 - val_loss: 0.0614 - val_acc: 0.9827\n",
            "Epoch 3/20\n",
            "48000/48000 [==============================] - 35s 738us/step - loss: 0.0983 - acc: 0.9719 - val_loss: 0.0583 - val_acc: 0.9843\n",
            "Epoch 4/20\n",
            "48000/48000 [==============================] - 36s 740us/step - loss: 0.0793 - acc: 0.9764 - val_loss: 0.0639 - val_acc: 0.9822\n",
            "Epoch 5/20\n",
            "48000/48000 [==============================] - 35s 733us/step - loss: 0.0645 - acc: 0.9806 - val_loss: 0.0522 - val_acc: 0.9863\n",
            "Epoch 6/20\n",
            "48000/48000 [==============================] - 35s 736us/step - loss: 0.0516 - acc: 0.9846 - val_loss: 0.0479 - val_acc: 0.9882\n",
            "Epoch 7/20\n",
            "48000/48000 [==============================] - 35s 738us/step - loss: 0.0491 - acc: 0.9853 - val_loss: 0.0540 - val_acc: 0.9868\n",
            "Epoch 8/20\n",
            "48000/48000 [==============================] - 36s 740us/step - loss: 0.0428 - acc: 0.9864 - val_loss: 0.0429 - val_acc: 0.9890\n",
            "Epoch 9/20\n",
            "48000/48000 [==============================] - 35s 739us/step - loss: 0.0415 - acc: 0.9876 - val_loss: 0.0533 - val_acc: 0.9877\n",
            "Epoch 10/20\n",
            "48000/48000 [==============================] - 36s 742us/step - loss: 0.0393 - acc: 0.9879 - val_loss: 0.0539 - val_acc: 0.9874\n",
            "Epoch 11/20\n",
            "48000/48000 [==============================] - 36s 743us/step - loss: 0.0386 - acc: 0.9878 - val_loss: 0.0528 - val_acc: 0.9884\n",
            "Epoch 12/20\n",
            "48000/48000 [==============================] - 35s 739us/step - loss: 0.0371 - acc: 0.9885 - val_loss: 0.0457 - val_acc: 0.9892\n",
            "Epoch 13/20\n",
            "48000/48000 [==============================] - 36s 740us/step - loss: 0.0307 - acc: 0.9903 - val_loss: 0.0502 - val_acc: 0.9895\n",
            "Epoch 14/20\n",
            "48000/48000 [==============================] - 36s 748us/step - loss: 0.0325 - acc: 0.9896 - val_loss: 0.0558 - val_acc: 0.9887\n",
            "Epoch 15/20\n",
            "48000/48000 [==============================] - 36s 753us/step - loss: 0.0298 - acc: 0.9904 - val_loss: 0.0540 - val_acc: 0.9888\n",
            "Epoch 16/20\n",
            "48000/48000 [==============================] - 36s 754us/step - loss: 0.0322 - acc: 0.9904 - val_loss: 0.0601 - val_acc: 0.9878\n",
            "Epoch 17/20\n",
            "48000/48000 [==============================] - 36s 748us/step - loss: 0.0273 - acc: 0.9912 - val_loss: 0.0497 - val_acc: 0.9888\n",
            "Epoch 18/20\n",
            "48000/48000 [==============================] - 36s 743us/step - loss: 0.0260 - acc: 0.9918 - val_loss: 0.0531 - val_acc: 0.9894\n",
            "Epoch 19/20\n",
            "48000/48000 [==============================] - 36s 746us/step - loss: 0.0277 - acc: 0.9913 - val_loss: 0.0522 - val_acc: 0.9895\n",
            "Epoch 20/20\n",
            "48000/48000 [==============================] - 36s 740us/step - loss: 0.0256 - acc: 0.9925 - val_loss: 0.0612 - val_acc: 0.9891\n"
          ],
          "name": "stdout"
        }
      ]
    },
    {
      "cell_type": "code",
      "metadata": {
        "id": "kcbn5wjoW1jv",
        "colab_type": "code",
        "colab": {
          "base_uri": "https://localhost:8080/",
          "height": 34
        },
        "outputId": "b6272f93-a3f8-4aa9-b7a7-d9acceb6d30c"
      },
      "source": [
        "loss_and_metrics = model.evaluate(X_test, Y_test)"
      ],
      "execution_count": 53,
      "outputs": [
        {
          "output_type": "stream",
          "text": [
            "10000/10000 [==============================] - 3s 280us/step\n"
          ],
          "name": "stdout"
        }
      ]
    },
    {
      "cell_type": "code",
      "metadata": {
        "id": "73pqSxeka1q4",
        "colab_type": "code",
        "colab": {
          "base_uri": "https://localhost:8080/",
          "height": 297
        },
        "outputId": "be9ab6c2-df95-43bf-e289-67a386219f4a"
      },
      "source": [
        "fig = plt.figure()\n",
        "plt.subplot(2,1,1)\n",
        "plt.plot(history.history['acc'])\n",
        "plt.plot(history.history['val_acc'])\n",
        "plt.title('model accuracy')\n",
        "plt.ylabel('accuracy')\n",
        "plt.xlabel('epoch')\n",
        "plt.legend(['train', 'test'], loc='lower right')\n",
        "\n",
        "plt.subplot(2,1,2)\n",
        "plt.plot(history.history['loss'])\n",
        "plt.plot(history.history['val_loss'])\n",
        "plt.title('model loss')\n",
        "plt.ylabel('loss')\n",
        "plt.xlabel('epoch')\n",
        "plt.legend(['train', 'test'], loc='upper right')\n",
        "\n",
        "plt.tight_layout()"
      ],
      "execution_count": 54,
      "outputs": [
        {
          "output_type": "display_data",
          "data": {
            "image/png": "[encoded data removed]",
            "text/plain": [
              "<Figure size 432x288 with 2 Axes>"
            ]
          },
          "metadata": {
            "tags": []
          }
        }
      ]
    },
    {
      "cell_type": "code",
      "metadata": {
        "id": "NK6aEdLwf3oz",
        "colab_type": "code",
        "colab": {
          "base_uri": "https://localhost:8080/",
          "height": 51
        },
        "outputId": "168bdd67-6ad3-469d-dc29-37cf2238f9c8"
      },
      "source": [
        "print(\"Test Loss\", loss_and_metrics[0])\n",
        "print(\"Test Accuracy\", loss_and_metrics[1])"
      ],
      "execution_count": 55,
      "outputs": [
        {
          "output_type": "stream",
          "text": [
            "Test Loss 0.04276533186764595\n",
            "Test Accuracy 0.989\n"
          ],
          "name": "stdout"
        }
      ]
    },
    {
      "cell_type": "code",
      "metadata": {
        "id": "obOq-P5NiMxf",
        "colab_type": "code",
        "colab": {}
      },
      "source": [
        ""
      ],
      "execution_count": 0,
      "outputs": []
    }
  ]
}